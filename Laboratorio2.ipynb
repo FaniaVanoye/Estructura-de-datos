{
 "cells": [
  {
   "cell_type": "code",
   "execution_count": 10,
   "metadata": {},
   "outputs": [
    {
     "name": "stdout",
     "output_type": "stream",
     "text": [
      "inserta una valor aquí  1\n",
      "inserta una segundo valor aquí  1\n",
      "\n",
      "Esta es la suma  2.0\n",
      "Esta es la resta  0.0\n",
      "Esta es la multiplicación  1.0\n",
      "Esta es la divi  1.0\n",
      "\n",
      "!Eso es todo, amigos!\n"
     ]
    }
   ],
   "source": [
    "a = float(input('inserta una valor aquí  '))\n",
    "b = float(input('inserta una segundo valor aquí  '))\n",
    "\n",
    "suma = (a++b) \n",
    "rest = (a-b)\n",
    "mult = (a**b)\n",
    "div = (a//b)\n",
    "print('\\nEsta es la suma ', suma)\n",
    "print('Esta es la resta ',rest)\n",
    "print('Esta es la multiplicación ',mult)\n",
    "print('Esta es la divi ',div)\n",
    "print (\"\\n!Eso es todo, amigos!\")"
   ]
  },
  {
   "cell_type": "code",
   "execution_count": null,
   "metadata": {},
   "outputs": [],
   "source": []
  }
 ],
 "metadata": {
  "kernelspec": {
   "display_name": "Python 3",
   "language": "python",
   "name": "python3"
  },
  "language_info": {
   "codemirror_mode": {
    "name": "ipython",
    "version": 3
   },
   "file_extension": ".py",
   "mimetype": "text/x-python",
   "name": "python",
   "nbconvert_exporter": "python",
   "pygments_lexer": "ipython3",
   "version": "3.8.3"
  }
 },
 "nbformat": 4,
 "nbformat_minor": 4
}
