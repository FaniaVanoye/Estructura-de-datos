{
 "cells": [
  {
   "cell_type": "code",
   "execution_count": 13,
   "metadata": {},
   "outputs": [
    {
     "name": "stdout",
     "output_type": "stream",
     "text": [
      "['PEON_BLANCO', 'PEON_BLANCO', 'PEON_BLANCO', 'PEON_BLANCO', 'PEON_BLANCO', 'PEON_BLANCO', 'PEON_BLANCO', 'PEON_BLANCO']\n",
      "['PEON_BLANCO', 'PEON_BLANCO', 'PEON_BLANCO', 'PEON_BLANCO', 'PEON_BLANCO', 'PEON_BLANCO', 'PEON_BLANCO', 'PEON_BLANCO']\n",
      "[0, 1, 4, 9, 16, 25, 36, 49, 64, 81]\n",
      "[1, 2, 4, 8, 16, 32, 64, 128]\n",
      "[1, 9, 25, 49, 81]\n"
     ]
    }
   ],
   "source": [
    "#lista que contiene ocho elementos que representan la segunda fila del tablero de ajedrez\n",
    "fila = []\n",
    "peon = \"PEON_BLANCO\"\n",
    "for i in range(8):\n",
    "    fila.append(peon)\n",
    "print(fila)\n",
    "\n",
    "#comprension de lista\n",
    "fila = [peon for i in range(8)]\n",
    "print(fila)\n",
    "\n",
    "#ejemplo 1\n",
    "cuadrados = [x ** 2 for x in range(10)]\n",
    "print(cuadrados)\n",
    "\n",
    "#ejemplo 2\n",
    "dos = [2 ** i for i in range(8)]\n",
    "print(dos)\n",
    "\n",
    "#ejemplo 3\n",
    "probabilidades = [x for x in cuadrados if x % 2 != 0] \n",
    "print(probabilidades)"
   ]
  },
  {
   "cell_type": "code",
   "execution_count": null,
   "metadata": {},
   "outputs": [],
   "source": []
  }
 ],
 "metadata": {
  "kernelspec": {
   "display_name": "Python 3",
   "language": "python",
   "name": "python3"
  },
  "language_info": {
   "codemirror_mode": {
    "name": "ipython",
    "version": 3
   },
   "file_extension": ".py",
   "mimetype": "text/x-python",
   "name": "python",
   "nbconvert_exporter": "python",
   "pygments_lexer": "ipython3",
   "version": "3.8.3"
  }
 },
 "nbformat": 4,
 "nbformat_minor": 4
}
