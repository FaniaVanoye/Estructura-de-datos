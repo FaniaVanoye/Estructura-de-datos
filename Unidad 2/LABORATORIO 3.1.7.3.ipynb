{
 "cells": [
  {
   "cell_type": "code",
   "execution_count": 21,
   "metadata": {},
   "outputs": [
    {
     "name": "stdout",
     "output_type": "stream",
     "text": [
      "[['TORRE', '-', '-', 'REY', 'REINA', '-', '-', 'TORRE'], ['-', '-', '-', '-', '-', 'PEON', '-', '-'], ['-', '-', 'CABALLO', '-', 'CABALLO', '-', '-', '-'], ['-', '-', '-', 'PEON', 'PEON', '-', '-', '-'], ['-', '-', 'CABALLO', 'PEON', 'PEON', '-', '-', '-'], ['-', 'PEON', '-', '-', '-', '-', '-', '-'], ['-', '-', '-', '-', '-', '-', '-', '-'], ['TORRE', '-', '-', 'REY', 'REINA', '-', '-', 'TORRE']]\n"
     ]
    }
   ],
   "source": [
    "EMPTY = \"-\"\n",
    "CABALLO = \"CABALLO\"\n",
    "TORRE = \"TORRE\"\n",
    "PEON = \"PEON\"\n",
    "REY = \"REY\"\n",
    "REINA = \"REINA\"\n",
    "tablero = []\n",
    "\n",
    "for i in range(8):\n",
    "    fila = [EMPTY for i in range(8)]\n",
    "    tablero.append (fila)\n",
    "\n",
    "tablero[0][0] = TORRE\n",
    "tablero[0][7] = TORRE\n",
    "tablero[7][0] = TORRE\n",
    "tablero[7][7] = TORRE\n",
    "tablero[4][2] = CABALLO\n",
    "tablero[2][2] = CABALLO\n",
    "tablero[2][4] = CABALLO\n",
    "tablero[4][4] = CABALLO\n",
    "tablero[3][4] = PEON\n",
    "tablero[3][3] = PEON\n",
    "tablero[4][4] = PEON\n",
    "tablero[4][3] = PEON\n",
    "tablero[5][1] = PEON\n",
    "tablero[1][5] = PEON\n",
    "tablero[0][3] = REY\n",
    "tablero[7][3] = REY\n",
    "tablero[0][4] = REINA\n",
    "tablero[7][4] = REINA\n",
    "\n",
    "\n",
    "print(tablero)\n"
   ]
  },
  {
   "cell_type": "code",
   "execution_count": null,
   "metadata": {},
   "outputs": [],
   "source": []
  },
  {
   "cell_type": "code",
   "execution_count": null,
   "metadata": {},
   "outputs": [],
   "source": []
  }
 ],
 "metadata": {
  "kernelspec": {
   "display_name": "Python 3",
   "language": "python",
   "name": "python3"
  },
  "language_info": {
   "codemirror_mode": {
    "name": "ipython",
    "version": 3
   },
   "file_extension": ".py",
   "mimetype": "text/x-python",
   "name": "python",
   "nbconvert_exporter": "python",
   "pygments_lexer": "ipython3",
   "version": "3.8.3"
  }
 },
 "nbformat": 4,
 "nbformat_minor": 4
}
