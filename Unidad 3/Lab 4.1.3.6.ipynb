{
 "cells": [
  {
   "cell_type": "code",
   "execution_count": 24,
   "metadata": {},
   "outputs": [
    {
     "name": "stdout",
     "output_type": "stream",
     "text": [
      "1900 -> Año bisiesto\n",
      "2000 -> Año bisiesto\n",
      "2016 -> Año bisiesto\n",
      "1987 -> Año NO bisiesto\n"
     ]
    }
   ],
   "source": [
    "def isYearLeap(year):\n",
    "    if year % 4 == 0:\n",
    "        return(False)\n",
    "    elif year % 100 == 0:\n",
    "        return(True)\n",
    "    elif year % 400 == 0:\n",
    "        return(False)\n",
    "    else:\n",
    "        return(True)\n",
    "        \n",
    "testData = [1900, 2000, 2016, 1987] #Años a evaluar\n",
    "testResults = [True, True, True, True] #no importa la lista al final toma los True y False que le corresponde\n",
    "for i in range(len(testData)):   \n",
    "    yr = testData[i]   #la variable yr guarda los años\n",
    "    print(yr,\"->\",end=\" \")\n",
    "    result = isYearLeap(yr) #evalua si es True or False\n",
    "    if result == testResults[i]: #evalua lo que es True igual a un año NOO bisiesto\n",
    "        print(\"Año NO bisiesto\")\n",
    "    else:                       #evalua lo que es False igual a un año bisiesto\n",
    "        print(\"Año bisiesto\")"
   ]
  },
  {
   "cell_type": "code",
   "execution_count": null,
   "metadata": {},
   "outputs": [],
   "source": []
  },
  {
   "cell_type": "code",
   "execution_count": null,
   "metadata": {},
   "outputs": [],
   "source": []
  }
 ],
 "metadata": {
  "kernelspec": {
   "display_name": "Python 3",
   "language": "python",
   "name": "python3"
  },
  "language_info": {
   "codemirror_mode": {
    "name": "ipython",
    "version": 3
   },
   "file_extension": ".py",
   "mimetype": "text/x-python",
   "name": "python",
   "nbconvert_exporter": "python",
   "pygments_lexer": "ipython3",
   "version": "3.8.3"
  }
 },
 "nbformat": 4,
 "nbformat_minor": 4
}
