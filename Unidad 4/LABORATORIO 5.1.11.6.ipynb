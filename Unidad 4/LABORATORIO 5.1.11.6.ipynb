{
 "cells": [
  {
   "cell_type": "code",
   "execution_count": 1,
   "metadata": {},
   "outputs": [
    {
     "name": "stdout",
     "output_type": "stream",
     "text": [
      "Ingresa tu mensaje: The die is cast1\n",
      "Ingresa un valor del 1 al 25: 25\n",
      "Sgd chd hr bzrs1\n"
     ]
    }
   ],
   "source": [
    "import string\n",
    "#mandamos llamar al metodo de string para ahorrarnos el trabajo\n",
    "#de escribir el alfabeto de mayusculas y minusculas.\n",
    "alfabeto = list(string.ascii_lowercase + string.ascii_uppercase)\n",
    "#lowercase es el alfabeto de minusculas\n",
    "#uppercase es el alfabeto de mayusculas \n",
    "textointro = input(\"Ingresa tu mensaje: \")\n",
    "n = int(input(\"Ingresa un valor del 1 al 25: \"))\n",
    "texto_cifrado = \"\" #Variable para la concatenacion \n",
    "   \n",
    "if 0 < n < 26:  #comprueba de que el número este en el rango\n",
    "    for letra in textointro: #comprueba la letra en el texto que introducimos\n",
    "        if letra in alfabeto: #comprueba que la letra este en nuestro alfabeto\n",
    "            id_actual = alfabeto.index(letra)\n",
    "            #accede a el indice de alfabeto en especifico según sea la letra\n",
    "            id_cesar = id_actual + n\n",
    "            #remplaza la letra original al valor n agregado\n",
    "            if id_cesar > 26:\n",
    "            #nuestros alfabeto llega hasta 25\n",
    "            #si se sale de 25...\n",
    "                id_cesar -= 26\n",
    "                #va a hacer que empiece de nuevo lista de palabras\n",
    "            texto_cifrado += alfabeto[id_cesar]\n",
    "            #nuestro texto cifrado y concatenado en el alfabeto de la posicion indice cesar\n",
    "        else:\n",
    "        #en caso de que nuestro texto tenga numeros, espacios, simbolos.....\n",
    "            texto_cifrado += letra\n",
    "            #solo se concatenan a nuestro texto\n",
    "    print(texto_cifrado)\n",
    "else:\n",
    "#en caso de que el numero no este en el rango de 1 - 25\n",
    "    print(\"Numero introducido fuera de rango\")"
   ]
  },
  {
   "cell_type": "code",
   "execution_count": null,
   "metadata": {},
   "outputs": [],
   "source": []
  }
 ],
 "metadata": {
  "kernelspec": {
   "display_name": "Python 3",
   "language": "python",
   "name": "python3"
  },
  "language_info": {
   "codemirror_mode": {
    "name": "ipython",
    "version": 3
   },
   "file_extension": ".py",
   "mimetype": "text/x-python",
   "name": "python",
   "nbconvert_exporter": "python",
   "pygments_lexer": "ipython3",
   "version": "3.8.3"
  }
 },
 "nbformat": 4,
 "nbformat_minor": 4
}
