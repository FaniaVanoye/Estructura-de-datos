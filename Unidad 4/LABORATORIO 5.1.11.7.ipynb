{
 "cells": [
  {
   "cell_type": "code",
   "execution_count": 6,
   "metadata": {},
   "outputs": [
    {
     "name": "stdout",
     "output_type": "stream",
     "text": [
      "Introduce tu texto: faninaf\n",
      "Es un palídromo. \n"
     ]
    }
   ],
   "source": [
    "texto = input(\"Introduce tu texto: \")\n",
    "texto = texto.lower()\n",
    "#convierte el texto a minusculas\n",
    "texto = texto.replace(\" \",\"\")\n",
    "#remplaza todo los espacios\n",
    "\n",
    "texto_invertido = reversed(texto)\n",
    "#comprueba el texto del derecho al reves.\n",
    "if list(texto) == list(texto_invertido):\n",
    "#si son iguales\n",
    "    print(\"Es un palídromo. \")\n",
    "    #imprime esto\n",
    "else:\n",
    "    print(\"No es un palídromo. \")\n",
    "    "
   ]
  },
  {
   "cell_type": "code",
   "execution_count": null,
   "metadata": {},
   "outputs": [],
   "source": []
  },
  {
   "cell_type": "code",
   "execution_count": null,
   "metadata": {},
   "outputs": [],
   "source": []
  }
 ],
 "metadata": {
  "kernelspec": {
   "display_name": "Python 3",
   "language": "python",
   "name": "python3"
  },
  "language_info": {
   "codemirror_mode": {
    "name": "ipython",
    "version": 3
   },
   "file_extension": ".py",
   "mimetype": "text/x-python",
   "name": "python",
   "nbconvert_exporter": "python",
   "pygments_lexer": "ipython3",
   "version": "3.8.3"
  }
 },
 "nbformat": 4,
 "nbformat_minor": 4
}
