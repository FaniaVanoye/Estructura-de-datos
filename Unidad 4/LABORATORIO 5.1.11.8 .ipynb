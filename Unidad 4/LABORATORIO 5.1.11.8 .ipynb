{
 "cells": [
  {
   "cell_type": "code",
   "execution_count": 19,
   "metadata": {},
   "outputs": [
    {
     "name": "stdout",
     "output_type": "stream",
     "text": [
      "Escribe una palabra:Listen\n",
      "Escribe una segunda palabra: Silent\n",
      "Anagrama\n"
     ]
    }
   ],
   "source": [
    "palabra1 = input(\"Escribe una palabra:\")  \n",
    "palabra1 = palabra1.lower()\n",
    "#la palabra introducida se cambia a minusculas.\n",
    "palabra2 = input(\"Escribe una segunda palabra: \")\n",
    "palabra2 = palabra2.lower()\n",
    "# la segunda palabra también se cambia a minusculas.\n",
    "\n",
    "str1 = sorted(palabra1)\n",
    "str2 = sorted(palabra2)\n",
    "#la primera y segunda palabra se acomodan alfabeticamente.\n",
    "\n",
    "\n",
    "if str1 == str2:\n",
    "#se compara si es lo mismo la primera y la segunda palabra.\n",
    "    print(\"Anagrama\")\n",
    "else:\n",
    "    print(\"No es anagrama\")"
   ]
  },
  {
   "cell_type": "code",
   "execution_count": null,
   "metadata": {},
   "outputs": [],
   "source": []
  }
 ],
 "metadata": {
  "kernelspec": {
   "display_name": "Python 3",
   "language": "python",
   "name": "python3"
  },
  "language_info": {
   "codemirror_mode": {
    "name": "ipython",
    "version": 3
   },
   "file_extension": ".py",
   "mimetype": "text/x-python",
   "name": "python",
   "nbconvert_exporter": "python",
   "pygments_lexer": "ipython3",
   "version": "3.8.3"
  }
 },
 "nbformat": 4,
 "nbformat_minor": 4
}
