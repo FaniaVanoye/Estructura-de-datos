{
 "cells": [
  {
   "cell_type": "code",
   "execution_count": 18,
   "metadata": {},
   "outputs": [
    {
     "name": "stdout",
     "output_type": "stream",
     "text": [
      "Porfavor, escribe tu fecha de nacimiento en dígitos: 08122002\n",
      "('Tu número de la vida es:', 6)\n"
     ]
    }
   ],
   "source": [
    "def Dígito_de_la_Vida(num):\n",
    "    suma_total = 0\n",
    "#Un ciclo nos ayudara a interactuar con num (que es nuestra serie de numeros)\n",
    "    while num:\n",
    "#num1 guarda el modulo de 10\n",
    "        num1 = num % 10\n",
    "#suma total se suma con el valor de num1\n",
    "        suma_total += num1\n",
    "#num se divide entre 10 entero -----------------------CADA VEZ QUE SE CICLA\n",
    "        num = num // 10\n",
    "\n",
    "#basicamente no podemos tener un resultado arriba de 9 \n",
    "#por que en caso de ser 10 seria 1+0= RESULTADO 1 \n",
    "    if suma_total > 9:\n",
    "#este if devuelve a nuestro resultado arriba de 10 a nuestra función inicial\n",
    "        return Dígito_de_la_Vida(suma_total)\n",
    "\n",
    "    return('Tu número de la vida es:',suma_total) \n",
    "\n",
    "num = int(input(\"Porfavor, escribe tu fecha de nacimiento en dígitos: \"))\n",
    "\n",
    "print(Dígito_de_la_Vida(num))\n",
    "#esto ayuda a que se imprima el resultado de nuestro ultimo return"
   ]
  },
  {
   "cell_type": "code",
   "execution_count": null,
   "metadata": {},
   "outputs": [],
   "source": []
  },
  {
   "cell_type": "code",
   "execution_count": null,
   "metadata": {},
   "outputs": [],
   "source": []
  }
 ],
 "metadata": {
  "kernelspec": {
   "display_name": "Python 3",
   "language": "python",
   "name": "python3"
  },
  "language_info": {
   "codemirror_mode": {
    "name": "ipython",
    "version": 3
   },
   "file_extension": ".py",
   "mimetype": "text/x-python",
   "name": "python",
   "nbconvert_exporter": "python",
   "pygments_lexer": "ipython3",
   "version": "3.8.3"
  }
 },
 "nbformat": 4,
 "nbformat_minor": 4
}
