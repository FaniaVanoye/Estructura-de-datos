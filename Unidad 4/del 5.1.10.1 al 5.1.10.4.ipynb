{
 "cells": [
  {
   "cell_type": "markdown",
   "metadata": {},
   "source": [
    "# Fania Margarita Vanoye Lizalde.\n",
    "\n",
    "## Estructura de datos.\n",
    "\n",
    "### Cadenas de acción."
   ]
  },
  {
   "cell_type": "markdown",
   "metadata": {},
   "source": [
    "# 5.1.10.1"
   ]
  },
  {
   "cell_type": "code",
   "execution_count": 2,
   "metadata": {},
   "outputs": [
    {
     "name": "stdout",
     "output_type": "stream",
     "text": [
      "True True False False True False\n"
     ]
    }
   ],
   "source": [
    "# Prueba los ejemplos aquí\n",
    "x = 'mamá'=='mamá'  #igualdas\n",
    "x1= 'mamá'!= 'dad'  #diferencia\n",
    "x2= 'hola'>'hola'   #mayor que\n",
    "x3= 'hola'>='jajajaja' #mayor igual que\n",
    "x4= 'hola'<'jajajaj'    #menor que\n",
    "x5= 'mamá'<='abuelo'   #menor igual que\n",
    "\n",
    "print(x, x1, x2, x3, x4, x5)"
   ]
  },
  {
   "cell_type": "markdown",
   "metadata": {},
   "source": [
    "# 5.1.10.2"
   ]
  },
  {
   "cell_type": "code",
   "execution_count": 6,
   "metadata": {},
   "outputs": [
    {
     "name": "stdout",
     "output_type": "stream",
     "text": [
      "False True False True True\n"
     ]
    }
   ],
   "source": [
    "x ='10' == '010'\n",
    "x1= '10' > '010'\n",
    "x2= '10' > '8'\n",
    "x3= '20' < '8'\n",
    "x4= '20' < '80'\n",
    "print(x, x1, x2, x3, x4)"
   ]
  },
  {
   "cell_type": "code",
   "execution_count": 8,
   "metadata": {},
   "outputs": [
    {
     "ename": "TypeError",
     "evalue": "'>' not supported between instances of 'str' and 'int'",
     "output_type": "error",
     "traceback": [
      "\u001b[1;31m---------------------------------------------------------------------------\u001b[0m",
      "\u001b[1;31mTypeError\u001b[0m                                 Traceback (most recent call last)",
      "\u001b[1;32m<ipython-input-8-8ffd0a1d629d>\u001b[0m in \u001b[0;36m<module>\u001b[1;34m\u001b[0m\n\u001b[0;32m      3\u001b[0m \u001b[0mx2\u001b[0m\u001b[1;33m=\u001b[0m \u001b[1;34m'10'\u001b[0m \u001b[1;33m==\u001b[0m \u001b[1;36m1\u001b[0m\u001b[1;33m\u001b[0m\u001b[1;33m\u001b[0m\u001b[0m\n\u001b[0;32m      4\u001b[0m \u001b[0mx3\u001b[0m\u001b[1;33m=\u001b[0m\u001b[1;34m'10'\u001b[0m \u001b[1;33m!=\u001b[0m \u001b[1;36m1\u001b[0m\u001b[1;33m\u001b[0m\u001b[1;33m\u001b[0m\u001b[0m\n\u001b[1;32m----> 5\u001b[1;33m \u001b[0mx4\u001b[0m\u001b[1;33m=\u001b[0m\u001b[1;34m'10'\u001b[0m \u001b[1;33m>\u001b[0m \u001b[1;36m10\u001b[0m\u001b[1;33m\u001b[0m\u001b[1;33m\u001b[0m\u001b[0m\n\u001b[0m\u001b[0;32m      6\u001b[0m \u001b[0mprint\u001b[0m\u001b[1;33m(\u001b[0m\u001b[0mx\u001b[0m\u001b[1;33m,\u001b[0m \u001b[0mx1\u001b[0m\u001b[1;33m,\u001b[0m \u001b[0mx2\u001b[0m\u001b[1;33m,\u001b[0m \u001b[0mx3\u001b[0m\u001b[1;33m,\u001b[0m \u001b[0mx4\u001b[0m\u001b[1;33m)\u001b[0m\u001b[1;33m\u001b[0m\u001b[1;33m\u001b[0m\u001b[0m\n",
      "\u001b[1;31mTypeError\u001b[0m: '>' not supported between instances of 'str' and 'int'"
     ]
    }
   ],
   "source": [
    "x ='10' == 10\n",
    "x1='10' != 10\n",
    "x2= '10' == 1\n",
    "x3='10' != 1\n",
    "x4='10' > 10  #no se puede comparar un string con un numero\n",
    "print(x, x1, x2, x3, x4)"
   ]
  },
  {
   "cell_type": "markdown",
   "metadata": {},
   "source": [
    "# 5.1.10.3"
   ]
  },
  {
   "cell_type": "code",
   "execution_count": 9,
   "metadata": {},
   "outputs": [
    {
     "name": "stdout",
     "output_type": "stream",
     "text": [
      "['omega', 'alfa', 'pi', 'gama']\n",
      "['alfa', 'gama', 'omega', 'pi']\n",
      "\n",
      "['omega', 'alfa', 'pi', 'gama']\n",
      "['alfa', 'gama', 'omega', 'pi']\n"
     ]
    }
   ],
   "source": [
    "# Demostración de la función sorted()\n",
    "#crea una nueva lista\n",
    "#oredena los valores alfabeticamente\n",
    "firstGreek = ['omega', 'alfa', 'pi', 'gama']\n",
    "firstGreek2 = sorted(firstGreek)\n",
    "\n",
    "print(firstGreek)\n",
    "print(firstGreek2)\n",
    "\n",
    "print()\n",
    "\n",
    "# Demostración del método sort()\n",
    "#no crea una nueva lista\n",
    "#acomoda la lista\n",
    "secondGreek = ['omega', 'alfa', 'pi', 'gama']\n",
    "print(secondGreek)\n",
    "\n",
    "secondGreek.sort()\n",
    "print(secondGreek)"
   ]
  },
  {
   "cell_type": "markdown",
   "metadata": {},
   "source": [
    "# 5.1.0.4"
   ]
  },
  {
   "cell_type": "code",
   "execution_count": 12,
   "metadata": {},
   "outputs": [
    {
     "name": "stdout",
     "output_type": "stream",
     "text": [
      "13 1.3\n"
     ]
    }
   ],
   "source": [
    "itg = 13\n",
    "flt = 1.3\n",
    "si = str(itg) #str conversión de una cadena a número o viceversa\n",
    "sf = str(flt)\n",
    "\n",
    "\n",
    "print(si + ' ' + sf)\n"
   ]
  },
  {
   "cell_type": "code",
   "execution_count": 13,
   "metadata": {},
   "outputs": [
    {
     "name": "stdout",
     "output_type": "stream",
     "text": [
      "14.3\n"
     ]
    }
   ],
   "source": [
    "si = '13'\n",
    "sf = '1.3'\n",
    "itg = int(si)\n",
    "# int para obtener un entero\n",
    "flt = float(sf)\n",
    "#float para un valor de punto flotante\n",
    "\n",
    "print(itg + flt)"
   ]
  },
  {
   "cell_type": "code",
   "execution_count": null,
   "metadata": {},
   "outputs": [],
   "source": []
  }
 ],
 "metadata": {
  "kernelspec": {
   "display_name": "Python 3",
   "language": "python",
   "name": "python3"
  },
  "language_info": {
   "codemirror_mode": {
    "name": "ipython",
    "version": 3
   },
   "file_extension": ".py",
   "mimetype": "text/x-python",
   "name": "python",
   "nbconvert_exporter": "python",
   "pygments_lexer": "ipython3",
   "version": "3.8.3"
  }
 },
 "nbformat": 4,
 "nbformat_minor": 4
}
