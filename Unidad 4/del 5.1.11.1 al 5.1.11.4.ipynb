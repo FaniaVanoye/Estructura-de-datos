{
 "cells": [
  {
   "cell_type": "markdown",
   "metadata": {},
   "source": [
    "# Fania Margarita Vanoye Lizalde\n",
    "\n",
    "## Estructura de datos.\n",
    "\n",
    "### Cuatro simples programas."
   ]
  },
  {
   "cell_type": "markdown",
   "metadata": {},
   "source": [
    "# 5.1.11.1"
   ]
  },
  {
   "cell_type": "code",
   "execution_count": 1,
   "metadata": {},
   "outputs": [
    {
     "name": "stdout",
     "output_type": "stream",
     "text": [
      "Ingresa tu mensaje: hol a\n",
      "IPMB\n"
     ]
    }
   ],
   "source": [
    "# Cifrado César\n",
    "text = input(\"Ingresa tu mensaje: \")\n",
    "cifrado = '' #cadena vacia\n",
    "if not char.isalpha(): # comprueba si no es alfabetico\n",
    "        continue #si no continua\n",
    "    char = char.upper()  # convierte todo a mayusculas\n",
    "    code = ord(char) + 1 # regresa cada letra introducida pero un lugar más adelante\n",
    "    if code > ord('Z'):   #comprueba si una letra es mayor que Z\n",
    "        code = ord('A')   # entonces se cambia a A\n",
    "    cifrado += chr(code)  #chr hace que se pueda concatenar el string con el int\n",
    "\n",
    "print(cifrado)"
   ]
  },
  {
   "cell_type": "markdown",
   "metadata": {},
   "source": [
    "# 5.1.11.2"
   ]
  },
  {
   "cell_type": "code",
   "execution_count": 2,
   "metadata": {},
   "outputs": [
    {
     "name": "stdout",
     "output_type": "stream",
     "text": [
      "Ingresa tu criptograma: hol a\n",
      "GNKZ\n"
     ]
    }
   ],
   "source": [
    "# Cifrado César - descifrar un mensaje\n",
    "# esto hace lo contrario que el programa anterios\n",
    "cifrado = input('Ingresa tu criptograma: ') #se introduce la cadena\n",
    "text = '' #cadena vacia\n",
    "for char in cifrado:\n",
    "    if not char.isalpha(): #comprueba si no es el afabeto\n",
    "        continue   # si no continua\n",
    "    char = char.upper() # la cadena se hace en mayusculas\n",
    "    code = ord(char) - 1 # la cadena se imprime una letra antes \n",
    "    if code < ord('A'): # si una letra es mas grande que A\n",
    "        code = ord('Z') # se cambia a Z\n",
    "    text += chr(code) #chr hace que se pueda concatenar el string con el int\n",
    "\n",
    "print(text)"
   ]
  },
  {
   "cell_type": "markdown",
   "metadata": {},
   "source": [
    "# 5.1.11.3"
   ]
  },
  {
   "cell_type": "code",
   "execution_count": null,
   "metadata": {},
   "outputs": [],
   "source": [
    "#Procesador de números\n",
    "\n",
    "linea = input(\"Ingresa una línea de números, sepáralos con espacios: \") #se introducen los números\n",
    "strings = linea.split()  # divide la lista en subcadenas\n",
    "total = 0 #se inicializa total en 0\n",
    "try: #intenta\n",
    "    for substr in strings:\n",
    "        total += float(substr) #intenta convertir todos los elementos en numeros\n",
    "        #se hace una suma\n",
    "    print(\"El total es:\", total) #avanza a imprime el total de la suma\n",
    "except: #en caso de un error.......\n",
    "    print(substr, \"no es un numero.\") #imprime el motivo de la finalización del programa"
   ]
  },
  {
   "cell_type": "markdown",
   "metadata": {},
   "source": [
    "# 5.1.11.4"
   ]
  },
  {
   "cell_type": "code",
   "execution_count": null,
   "metadata": {},
   "outputs": [],
   "source": [
    "# Validador IBAN\n",
    "\n",
    "iban = input(\"Ingresa IBAN, por favor: \") #numeros y letras\n",
    "iban = iban.replace(' ','') #remplaza todos los vacios\n",
    "if not iban.isalnum(): # comprueba si no se introducen numeros\n",
    "    print(\"Has introducido caracteres no válidos.\") # e imprime esto\n",
    "elif len(iban) < 15:  #comprueba que sea mayor que 15\n",
    "    print(\"El IBAN ingresado es demasiado corto.\") # si se cumple imprime esto\n",
    "elif len(iban) > 31: #comprueba que sea menor que 31\n",
    "    print(\"El IBAN ingresado es demasiado largo.\") # si se cumple imprime esto\n",
    "else: #contunua\n",
    "    iban = (iban[4:] + iban[0:4]).upper()  \n",
    "#convierte las letras a mayusculas, se mueven los cuatro caracteres iniciales al final del número\n",
    "    iban2 = ''  \n",
    "# para completar el número\n",
    "    for ch in iban:\n",
    "        if ch.isdigit(): #si el caracter es un digito...\n",
    "            iban2 += ch  # se duplica\n",
    "        else:\n",
    "            iban2 += str(10 + ord(ch) - ord('A')) #de lo contrario se convierte en dos digitos\n",
    "    ibann = int(iban2)  #se convierte en num entero\n",
    "    if ibann % 97 == 1: #el residuo de la division es igual a 1\n",
    "        print(\"El IBAN ingresado es válido.\") #si es cierto imprime esto\n",
    "    else:\n",
    "        print(\"El IBAN ingresado no es válido.\")  #si no es imprime esto"
   ]
  },
  {
   "cell_type": "code",
   "execution_count": null,
   "metadata": {},
   "outputs": [],
   "source": []
  },
  {
   "cell_type": "code",
   "execution_count": null,
   "metadata": {},
   "outputs": [],
   "source": []
  }
 ],
 "metadata": {
  "kernelspec": {
   "display_name": "Python 3",
   "language": "python",
   "name": "python3"
  },
  "language_info": {
   "codemirror_mode": {
    "name": "ipython",
    "version": 3
   },
   "file_extension": ".py",
   "mimetype": "text/x-python",
   "name": "python",
   "nbconvert_exporter": "python",
   "pygments_lexer": "ipython3",
   "version": "3.8.3"
  }
 },
 "nbformat": 4,
 "nbformat_minor": 4
}
