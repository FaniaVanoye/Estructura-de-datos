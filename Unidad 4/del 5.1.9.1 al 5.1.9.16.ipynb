{
 "cells": [
  {
   "cell_type": "markdown",
   "metadata": {},
   "source": [
    "# Fania Margarita Vanoye Lizalde\n",
    "\n",
    "## Estructura de Bases de datos\n",
    "\n",
    "### Métodos de cadenas \n",
    "\n",
    "### 5.1.9.1"
   ]
  },
  {
   "cell_type": "code",
   "execution_count": 1,
   "metadata": {},
   "outputs": [
    {
     "name": "stdout",
     "output_type": "stream",
     "text": [
      "Abcd\n"
     ]
    }
   ],
   "source": [
    "# Demostración del método capitalize()\n",
    "# la demostración imprime la cadena modificada\n",
    "# El primer caracter de la cadena se imprime como mayuscula\n",
    "# la cadena restante se imprime con minisculas\n",
    "print('aBcD'.capitalize())"
   ]
  },
  {
   "cell_type": "markdown",
   "metadata": {},
   "source": [
    "### 5.1.9.2 "
   ]
  },
  {
   "cell_type": "code",
   "execution_count": 2,
   "metadata": {},
   "outputs": [
    {
     "name": "stdout",
     "output_type": "stream",
     "text": [
      "[   alfa   ]\n"
     ]
    }
   ],
   "source": [
    "# Demostración del método center()\n",
    "#esta demostración hace que nuestra cadena quede centrada\n",
    "# esto sucede al agregar espacios antes o despues de la cadena\n",
    "\n",
    "print('[' + 'alfa'.center(10) + ']')"
   ]
  },
  {
   "cell_type": "code",
   "execution_count": 5,
   "metadata": {},
   "outputs": [
    {
     "name": "stdout",
     "output_type": "stream",
     "text": [
      "[Beta]\n",
      "[Beta]\n",
      "[ Beta ]\n"
     ]
    }
   ],
   "source": [
    "print('[' + 'Beta'.center(2) + ']')\n",
    "print('[' + 'Beta'.center(4) + ']')\n",
    "print('[' + 'Beta'.center(6) + ']')\n",
    "# el .center nos especifica el tamaño del espacio"
   ]
  },
  {
   "cell_type": "code",
   "execution_count": 6,
   "metadata": {},
   "outputs": [
    {
     "name": "stdout",
     "output_type": "stream",
     "text": [
      "[*******gamma********]\n"
     ]
    }
   ],
   "source": [
    "print('[' + 'gamma'.center(20, '*') + ']')\n",
    "#el espacio se sustituye por ****** asteriscos"
   ]
  },
  {
   "cell_type": "markdown",
   "metadata": {},
   "source": [
    "### 5.1.9.3"
   ]
  },
  {
   "cell_type": "code",
   "execution_count": 7,
   "metadata": {},
   "outputs": [
    {
     "name": "stdout",
     "output_type": "stream",
     "text": [
      "si\n"
     ]
    }
   ],
   "source": [
    "# Demostración del método endswith()\n",
    "# se usa para salida de valores booleanos\n",
    "# se introduce una cadena y se comprueba con ella su contenido\n",
    "if \"epsilon\".endswith(\"on\"):\n",
    "    print(\"si\")\n",
    "else:\n",
    "    print(\"no\")"
   ]
  },
  {
   "cell_type": "code",
   "execution_count": 8,
   "metadata": {},
   "outputs": [
    {
     "name": "stdout",
     "output_type": "stream",
     "text": [
      "True\n",
      "False\n",
      "False\n",
      "True\n"
     ]
    }
   ],
   "source": [
    "t = \"zeta\"  # t es la variable que asume el valor de la cadena.\n",
    "print(t.endswith(\"a\"))   #se comprueba cada valor de la cadena\n",
    "print(t.endswith(\"A\"))   # y si este aparace en los valores a comprobar.\n",
    "print(t.endswith(\"et\"))\n",
    "print(t.endswith(\"eta\"))\n",
    "\n",
    "#las salidas seran booleanas"
   ]
  },
  {
   "cell_type": "markdown",
   "metadata": {},
   "source": [
    "### 5.1.9.4"
   ]
  },
  {
   "cell_type": "code",
   "execution_count": 9,
   "metadata": {},
   "outputs": [
    {
     "name": "stdout",
     "output_type": "stream",
     "text": [
      "1\n",
      "-1\n"
     ]
    }
   ],
   "source": [
    "# Demostración del método find()\n",
    "# este metodo es similar a index\n",
    "# en la cadena busca en index de aparacion\n",
    "print(\"Eta\".find(\"ta\"))\n",
    "print(\"Eta\".find(\"mma\"))"
   ]
  },
  {
   "cell_type": "code",
   "execution_count": 10,
   "metadata": {},
   "outputs": [
    {
     "name": "stdout",
     "output_type": "stream",
     "text": [
      "1\n",
      "1\n",
      "0\n",
      "-1\n"
     ]
    }
   ],
   "source": [
    "t = 'teta'  # t asume el valor de la cadena\n",
    "print(t.find('eta'))\n",
    "print(t.find('et'))  # busca la aparcion de la cadena y la \n",
    "print(t.find('te'))  # devuelve en su numero de posicion de la cadena\n",
    "print(t.find('ha'))"
   ]
  },
  {
   "cell_type": "code",
   "execution_count": null,
   "metadata": {},
   "outputs": [],
   "source": [
    "# busca las veces que the aparace\n",
    "txt = \"\"\"A variation of the ordinary lorem ipsum\n",
    "text has been used in typesetting since the 1960s \n",
    "or earlier, when it was popularized by advertisements \n",
    "for Letraset transfer sheets. It was introduced to \n",
    "the Information Age in the mid-1980s by the Aldus Corporation, \n",
    "which employed it in graphics and word-processing templates\n",
    "for its desktop publishing program PageMaker (from Wikipedia)\"\"\"\n",
    "\n",
    "fnd = txt.find('the')\n",
    "while fnd != -1:\n",
    "    print(fnd)\n",
    "    fnd = txt.find('the', fnd + 1)"
   ]
  },
  {
   "cell_type": "markdown",
   "metadata": {},
   "source": [
    "### 5.1.9.5"
   ]
  },
  {
   "cell_type": "code",
   "execution_count": 12,
   "metadata": {},
   "outputs": [
    {
     "name": "stdout",
     "output_type": "stream",
     "text": [
      "True\n",
      "True\n",
      "True\n",
      "False\n",
      "False\n",
      "False\n"
     ]
    }
   ],
   "source": [
    "# Demostración del método the isalnum()\n",
    "# También expresa salidas booleanas\n",
    "# comprueba si la cadena contiene digitos o letras\n",
    "print('lambda30'.isalnum())\n",
    "print('lambda'.isalnum())\n",
    "print('30'.isalnum())\n",
    "print('@'.isalnum())                   #cualquier elemento de la cadena que no sea\n",
    "print('lambda_30'.isalnum())           # un digito o una letra imprimira False\n",
    "print(''.isalnum())"
   ]
  },
  {
   "cell_type": "code",
   "execution_count": 13,
   "metadata": {},
   "outputs": [
    {
     "name": "stdout",
     "output_type": "stream",
     "text": [
      "False\n",
      "True\n",
      "True\n"
     ]
    }
   ],
   "source": [
    "t = 'Six lambdas'    # solo hay letras\n",
    "print(t.isalnum())   \n",
    "\n",
    "t = 'ΑβΓδ'\n",
    "print(t.isalnum())  #hay digitos y una letra\n",
    "\n",
    "t = '20E1'          # hay numeros y una letra\n",
    "print(t.isalnum())"
   ]
  },
  {
   "cell_type": "markdown",
   "metadata": {},
   "source": [
    "### 5.1.9.6"
   ]
  },
  {
   "cell_type": "code",
   "execution_count": 14,
   "metadata": {},
   "outputs": [
    {
     "name": "stdout",
     "output_type": "stream",
     "text": [
      "True\n",
      "False\n",
      "True\n",
      "False\n"
     ]
    }
   ],
   "source": [
    "# Ejemplo 1: Demostración del método isapha()\n",
    "#salida boleana \n",
    "print(\"Moooo\".isalpha())        #se centra solo en letras\n",
    "print('Mu40'.isalpha())    \n",
    "# lo que no es solo letra se imprime como False\n",
    "\n",
    "# Ejemplo 2: Demostración del método isdigit()\n",
    "#salida boleana\n",
    "print('2018'.isdigit())     # se centra solo en digitos \n",
    "print(\"Año2019\".isdigit())\n",
    "#lo que no es digito se imprime como False"
   ]
  },
  {
   "cell_type": "markdown",
   "metadata": {},
   "source": [
    "### 5.1.9.7"
   ]
  },
  {
   "cell_type": "code",
   "execution_count": 15,
   "metadata": {},
   "outputs": [
    {
     "name": "stdout",
     "output_type": "stream",
     "text": [
      "False\n",
      "True\n",
      "True\n",
      "True\n",
      "False\n",
      "False\n",
      "False\n",
      "True\n"
     ]
    }
   ],
   "source": [
    "# Ejemplo 1: Demostración del método islower()\n",
    "                                     # solo acepta letras minisculas\n",
    "print(\"Moooo\".islower())\n",
    "print('moooo'.islower())\n",
    "\n",
    "# Ejemplo 2: Demostración del método isspace()\n",
    "print(' \\n '.isspace())              # solo acepta espacios en blanco\n",
    "print(\" \".isspace())\n",
    "print(\"mooo mooo mooo\".isspace())\n",
    "\n",
    "# Ejemplo 3: Demostración del método isupper() \n",
    "print(\"Moooo\".isupper())            # solo acepta letras mayusculas\n",
    "print('moooo'.isupper())\n",
    "print('MOOOO'.isupper())\n",
    "\n",
    "\n",
    "# todo lo demas independientemente de cada una son salidas en False"
   ]
  },
  {
   "cell_type": "markdown",
   "metadata": {},
   "source": [
    "### 5.1.9.8"
   ]
  },
  {
   "cell_type": "code",
   "execution_count": 16,
   "metadata": {},
   "outputs": [
    {
     "name": "stdout",
     "output_type": "stream",
     "text": [
      "omicron,pi,rho\n"
     ]
    }
   ],
   "source": [
    "# Demostración del método join()\n",
    "# hace que cada valor del print despues del join\n",
    "# se imprima con lo que se especifica antes del join\n",
    "# en este ejemplo la coma\n",
    "print(\",\".join([\"omicron\", \"pi\", \"rho\"]))"
   ]
  },
  {
   "cell_type": "markdown",
   "metadata": {},
   "source": [
    "### 5.1.9.9"
   ]
  },
  {
   "cell_type": "code",
   "execution_count": 18,
   "metadata": {},
   "outputs": [
    {
     "name": "stdout",
     "output_type": "stream",
     "text": [
      "sigma=60\n"
     ]
    }
   ],
   "source": [
    "# Demostración del método lower()\n",
    "# genera una copia de la cadena pero \n",
    "# sustituye las letras por minusculas\n",
    "print(\"SiGmA=60\".lower())"
   ]
  },
  {
   "cell_type": "code",
   "execution_count": 19,
   "metadata": {},
   "outputs": [
    {
     "name": "stdout",
     "output_type": "stream",
     "text": [
      "fania=20\n"
     ]
    }
   ],
   "source": [
    "print(\"FAnIA=20\".lower())"
   ]
  },
  {
   "cell_type": "markdown",
   "metadata": {},
   "source": [
    "### 5.1.9.10"
   ]
  },
  {
   "cell_type": "code",
   "execution_count": 20,
   "metadata": {},
   "outputs": [
    {
     "name": "stdout",
     "output_type": "stream",
     "text": [
      "[tau ]\n"
     ]
    }
   ],
   "source": [
    "# Demostración del método the lstrip()\n",
    "# Elimina el espacio incial de la cadea\n",
    "print(\"[\" + \" tau \".lstrip() + \"]\")"
   ]
  },
  {
   "cell_type": "code",
   "execution_count": 21,
   "metadata": {},
   "outputs": [
    {
     "name": "stdout",
     "output_type": "stream",
     "text": [
      "cisco.com\n"
     ]
    }
   ],
   "source": [
    "print(\"www.cisco.com\".lstrip(\"w.\"))\n",
    "# Este codigo hace que se elimine todo lo que esta antes de \n",
    "# el primer punto con la W"
   ]
  },
  {
   "cell_type": "code",
   "execution_count": 22,
   "metadata": {},
   "outputs": [
    {
     "name": "stdout",
     "output_type": "stream",
     "text": [
      "pythoninstitute.org\n"
     ]
    }
   ],
   "source": [
    "print(\"pythoninstitute.org\".lstrip(\".org\"))"
   ]
  },
  {
   "cell_type": "markdown",
   "metadata": {},
   "source": [
    "### 5.1.9.11"
   ]
  },
  {
   "cell_type": "code",
   "execution_count": 23,
   "metadata": {},
   "outputs": [
    {
     "name": "stdout",
     "output_type": "stream",
     "text": [
      "www.pythoninstitute.org\n",
      "Thare are it!\n",
      "Apple \n"
     ]
    }
   ],
   "source": [
    "# Demostración del método replace()\n",
    "# remplaza valores\n",
    "print(\"www.netacad.com\".replace(\"netacad.com\", \"pythoninstitute.org\"))\n",
    "# hace que remplace lo de netacad por pythoninstite.......\n",
    "print(\"This is it!\".replace(\"is\", \"are\"))\n",
    "# remplaza a is por are\n",
    "print(\"Apple juice\".replace(\"juice\", \"\"))\n",
    "# remplaza a juice por un espacio en blanco"
   ]
  },
  {
   "cell_type": "code",
   "execution_count": 24,
   "metadata": {},
   "outputs": [
    {
     "name": "stdout",
     "output_type": "stream",
     "text": [
      "Thare is it!\n",
      "Thare are it!\n"
     ]
    }
   ],
   "source": [
    "print(\"This is it!\".replace(\"is\", \"are\", 1))\n",
    "# aqui se indica que se remplace el valor por el numero de la posicion\n",
    "# expresada\n",
    "print(\"This is it!\".replace(\"is\", \"are\", 2))\n",
    "# se remplaza la poscion 2 que contiene a are"
   ]
  },
  {
   "cell_type": "markdown",
   "metadata": {},
   "source": [
    "### 5.1.9.12"
   ]
  },
  {
   "cell_type": "code",
   "execution_count": 28,
   "metadata": {},
   "outputs": [
    {
     "name": "stdout",
     "output_type": "stream",
     "text": [
      "8\n",
      "-1\n",
      "4\n"
     ]
    }
   ],
   "source": [
    "# Demostración del método rfind()\n",
    "# hacen lo contrario a find\n",
    "# este comienza su busqueda desde el final de la cadena\n",
    "# r de reversa\n",
    "print(\"tau tau tau\".rfind(\"ta\"))\n",
    "print(\"tau tau tau\".rfind(\"ta\", 9)) # encuentra el primer valor de los 9\n",
    "print(\"tau tau tau\".rfind(\"ta\", 4, 9)) # busca del 9 al 4"
   ]
  },
  {
   "cell_type": "markdown",
   "metadata": {},
   "source": [
    "### 5.1.9.13"
   ]
  },
  {
   "cell_type": "code",
   "execution_count": 30,
   "metadata": {},
   "outputs": [
    {
     "name": "stdout",
     "output_type": "stream",
     "text": [
      "[ upsilon]\n",
      "cis\n"
     ]
    }
   ],
   "source": [
    "# Demostración del método rstrip()\n",
    "# hace algo similar al metodo lstrip\n",
    "# pero este afecto lo del lado opuesto\n",
    "print(\"[\" + \" upsilon \".rstrip() + \"]\")\n",
    "# se efecta el espacio del final\n",
    "print(\"cisco.com\".rstrip(\".com\"))\n",
    "# afecta las dos palabras 'co' incluyendo el \".com\""
   ]
  },
  {
   "cell_type": "markdown",
   "metadata": {},
   "source": [
    "### 5.1.9.14"
   ]
  },
  {
   "cell_type": "code",
   "execution_count": 31,
   "metadata": {},
   "outputs": [
    {
     "name": "stdout",
     "output_type": "stream",
     "text": [
      "['phi', 'chi', 'psi']\n"
     ]
    }
   ],
   "source": [
    "# Demostración del método split()\n",
    "# asume que las cadenas se delimitan por espacios\n",
    "# copia la cadena y la construye sin espacios\n",
    "print(\"phi       chi\\npsi\".split())"
   ]
  },
  {
   "cell_type": "markdown",
   "metadata": {},
   "source": [
    "### 5.1.9.15"
   ]
  },
  {
   "cell_type": "code",
   "execution_count": 32,
   "metadata": {},
   "outputs": [
    {
     "name": "stdout",
     "output_type": "stream",
     "text": [
      "False\n",
      "True\n",
      "\n",
      "[aleph]\n"
     ]
    }
   ],
   "source": [
    "# Demostración del método startswith()\n",
    "# salida boleana\n",
    "# encuentra un valor en la cadena \n",
    "print(\"omega\".startswith(\"meg\"))\n",
    "# aparece meg en la cadena pero no es ese orde\n",
    "# asi que es Falso\n",
    "print(\"omega\".startswith(\"om\"))\n",
    "# aparece en ese orden en la cadena\n",
    "# salida True\n",
    "\n",
    "print()\n",
    "\n",
    "# Demostración del método strip() \n",
    "# crea una lista sin espacios al principio ni al final\n",
    "print(\"[\" + \"   aleph   \".strip() + \"]\")"
   ]
  },
  {
   "cell_type": "markdown",
   "metadata": {},
   "source": [
    "### 5.1.9.16"
   ]
  },
  {
   "cell_type": "code",
   "execution_count": 33,
   "metadata": {},
   "outputs": [
    {
     "name": "stdout",
     "output_type": "stream",
     "text": [
      "yO SÉ QUE NO SÉ NADA.\n",
      "\n",
      "Yo Sé Que No Sé Nada. Parte 1.\n",
      "\n",
      "YO SÉ QUE NO SÉ NADA. PARTE 2.\n"
     ]
    }
   ],
   "source": [
    "# Demostración del método swapcase()\n",
    "print(\"Yo sé que no sé nada.\".swapcase())\n",
    "# la primer palabra es miniscula\n",
    "# lo que resta de cadena es mayuscula\n",
    "\n",
    "print()\n",
    "\n",
    "# Demostración del método title()\n",
    "print(\"Yo sé que no sé nada. Parte 1.\".title())\n",
    "# las iniciales de cada espacio de la cadena son mayusculas\n",
    "# las que no son inciales s\n",
    "\n",
    "print()\n",
    "\n",
    "# Demostración del método upper()\n",
    "print(\"Yo sé que no sé nada. Parte 2.\".upper())"
   ]
  },
  {
   "cell_type": "code",
   "execution_count": null,
   "metadata": {},
   "outputs": [],
   "source": []
  }
 ],
 "metadata": {
  "kernelspec": {
   "display_name": "Python 3",
   "language": "python",
   "name": "python3"
  },
  "language_info": {
   "codemirror_mode": {
    "name": "ipython",
    "version": 3
   },
   "file_extension": ".py",
   "mimetype": "text/x-python",
   "name": "python",
   "nbconvert_exporter": "python",
   "pygments_lexer": "ipython3",
   "version": "3.8.3"
  }
 },
 "nbformat": 4,
 "nbformat_minor": 4
}
